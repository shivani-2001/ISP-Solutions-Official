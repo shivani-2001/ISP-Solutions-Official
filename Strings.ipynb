{
 "cells": [
  {
   "cell_type": "markdown",
   "id": "a94e923e",
   "metadata": {},
   "source": [
    "### Mostly used String Methods - \n",
    "\n",
    "* capitalize()\n",
    "* lower()\n",
    "* upper()\n",
    "* strip()\n",
    "* replace()\n",
    "* split()\n",
    "* join()\n",
    "* startswith()\n",
    "* endswith()\n",
    "* find()\n",
    "* count()"
   ]
  },
  {
   "cell_type": "code",
   "execution_count": 1,
   "id": "21bc7a4f",
   "metadata": {},
   "outputs": [],
   "source": [
    "s = \"hello\""
   ]
  },
  {
   "cell_type": "code",
   "execution_count": 2,
   "id": "5af5f5e9",
   "metadata": {},
   "outputs": [
    {
     "name": "stdout",
     "output_type": "stream",
     "text": [
      "hello\n",
      "Hello\n"
     ]
    }
   ],
   "source": [
    "s1 = s.capitalize()\n",
    "print(s)\n",
    "print(s1)"
   ]
  },
  {
   "cell_type": "code",
   "execution_count": 3,
   "id": "87647bb1",
   "metadata": {},
   "outputs": [],
   "source": [
    "s = \"HeLlo WoRld!\"\n",
    "s1 = s.lower()"
   ]
  },
  {
   "cell_type": "code",
   "execution_count": 4,
   "id": "d4849534",
   "metadata": {},
   "outputs": [
    {
     "name": "stdout",
     "output_type": "stream",
     "text": [
      "HeLlo WoRld!\n",
      "hello world!\n"
     ]
    }
   ],
   "source": [
    "print(s)\n",
    "print(s1)"
   ]
  },
  {
   "cell_type": "code",
   "execution_count": 5,
   "id": "02892b8b",
   "metadata": {},
   "outputs": [
    {
     "data": {
      "text/plain": [
       "'HELLO WORLD!'"
      ]
     },
     "execution_count": 5,
     "metadata": {},
     "output_type": "execute_result"
    }
   ],
   "source": [
    "s.upper()"
   ]
  },
  {
   "cell_type": "code",
   "execution_count": 6,
   "id": "e6e381e5",
   "metadata": {},
   "outputs": [
    {
     "name": "stdout",
     "output_type": "stream",
     "text": [
      "Hello    World\n"
     ]
    }
   ],
   "source": [
    "test = \"   Hello    World     \"\n",
    "test = test.strip()\n",
    "print(test)"
   ]
  },
  {
   "cell_type": "code",
   "execution_count": 7,
   "id": "a102c6c5",
   "metadata": {},
   "outputs": [
    {
     "name": "stdout",
     "output_type": "stream",
     "text": [
      "Hello    World     \n"
     ]
    }
   ],
   "source": [
    "test = \"   Hello    World     \"\n",
    "test = test.lstrip()\n",
    "print(test)"
   ]
  },
  {
   "cell_type": "code",
   "execution_count": 8,
   "id": "686497f8",
   "metadata": {},
   "outputs": [
    {
     "name": "stdout",
     "output_type": "stream",
     "text": [
      "Hello, This is Python lecture.\n"
     ]
    }
   ],
   "source": [
    "text = \"Hello, This is Maths class.\"\n",
    "text = text.replace(\"Maths class\", \"Python lecture\")\n",
    "print(text)"
   ]
  },
  {
   "cell_type": "code",
   "execution_count": 9,
   "id": "5ac2c375",
   "metadata": {},
   "outputs": [
    {
     "data": {
      "text/plain": [
       "'Hello, This is Python lecture.'"
      ]
     },
     "execution_count": 9,
     "metadata": {},
     "output_type": "execute_result"
    }
   ],
   "source": [
    "text"
   ]
  },
  {
   "cell_type": "code",
   "execution_count": 10,
   "id": "25fac58f",
   "metadata": {},
   "outputs": [
    {
     "name": "stdout",
     "output_type": "stream",
     "text": [
      "['Hello', 'This is Python lecture.']\n"
     ]
    }
   ],
   "source": [
    "text1 = text.split(\", \")\n",
    "print(text1)"
   ]
  },
  {
   "cell_type": "code",
   "execution_count": 11,
   "id": "c9f1fac1",
   "metadata": {},
   "outputs": [
    {
     "data": {
      "text/plain": [
       "['Hello', 'This is Python lecture.']"
      ]
     },
     "execution_count": 11,
     "metadata": {},
     "output_type": "execute_result"
    }
   ],
   "source": [
    "text1"
   ]
  },
  {
   "cell_type": "code",
   "execution_count": 12,
   "id": "ba0546a2",
   "metadata": {},
   "outputs": [
    {
     "name": "stdout",
     "output_type": "stream",
     "text": [
      "Hello! This is Python lecture.\n"
     ]
    }
   ],
   "source": [
    "text2 = \"! \".join(text1)\n",
    "print(text2)"
   ]
  },
  {
   "cell_type": "code",
   "execution_count": 13,
   "id": "f3db29a3",
   "metadata": {},
   "outputs": [
    {
     "name": "stdout",
     "output_type": "stream",
     "text": [
      "1, 2, 3, 4, 5\n"
     ]
    }
   ],
   "source": [
    "s = [\"1\", \"2\", \"3\", \"4\", \"5\"]\n",
    "test = \", \".join(s)\n",
    "print(test)"
   ]
  },
  {
   "cell_type": "code",
   "execution_count": 14,
   "id": "cad12bee",
   "metadata": {},
   "outputs": [
    {
     "data": {
      "text/plain": [
       "'Hello! This is Python lecture.'"
      ]
     },
     "execution_count": 14,
     "metadata": {},
     "output_type": "execute_result"
    }
   ],
   "source": [
    "text2"
   ]
  },
  {
   "cell_type": "code",
   "execution_count": 15,
   "id": "a840df14",
   "metadata": {},
   "outputs": [
    {
     "data": {
      "text/plain": [
       "True"
      ]
     },
     "execution_count": 15,
     "metadata": {},
     "output_type": "execute_result"
    }
   ],
   "source": [
    "text2.startswith(\"Hello!\")"
   ]
  },
  {
   "cell_type": "code",
   "execution_count": 16,
   "id": "614f1e52",
   "metadata": {},
   "outputs": [
    {
     "data": {
      "text/plain": [
       "True"
      ]
     },
     "execution_count": 16,
     "metadata": {},
     "output_type": "execute_result"
    }
   ],
   "source": [
    "text2.endswith(\"lecture.\")"
   ]
  },
  {
   "cell_type": "code",
   "execution_count": 17,
   "id": "e1f18f49",
   "metadata": {},
   "outputs": [
    {
     "data": {
      "text/plain": [
       "'Hello! This is Python lecture.'"
      ]
     },
     "execution_count": 17,
     "metadata": {},
     "output_type": "execute_result"
    }
   ],
   "source": [
    "text2"
   ]
  },
  {
   "cell_type": "code",
   "execution_count": 18,
   "id": "1f736f18",
   "metadata": {},
   "outputs": [
    {
     "name": "stdout",
     "output_type": "stream",
     "text": [
      "7\n"
     ]
    }
   ],
   "source": [
    "res = text2.find(\"This\")\n",
    "print(res)"
   ]
  },
  {
   "cell_type": "code",
   "execution_count": 19,
   "id": "cffeba24",
   "metadata": {},
   "outputs": [],
   "source": [
    "text3 = text2 + \" Python\""
   ]
  },
  {
   "cell_type": "code",
   "execution_count": 20,
   "id": "3a433c32",
   "metadata": {},
   "outputs": [
    {
     "data": {
      "text/plain": [
       "'Hello! This is Python lecture. Python'"
      ]
     },
     "execution_count": 20,
     "metadata": {},
     "output_type": "execute_result"
    }
   ],
   "source": [
    "text3"
   ]
  },
  {
   "cell_type": "code",
   "execution_count": 21,
   "id": "c835d814",
   "metadata": {},
   "outputs": [
    {
     "name": "stdout",
     "output_type": "stream",
     "text": [
      "1\n"
     ]
    }
   ],
   "source": [
    "n = text3.count(\"hi\")\n",
    "print(n)"
   ]
  },
  {
   "cell_type": "code",
   "execution_count": 22,
   "id": "d35dafc8",
   "metadata": {},
   "outputs": [
    {
     "data": {
      "text/plain": [
       "5"
      ]
     },
     "execution_count": 22,
     "metadata": {},
     "output_type": "execute_result"
    }
   ],
   "source": [
    "len(s)"
   ]
  }
 ],
 "metadata": {
  "kernelspec": {
   "display_name": "Python 3 (ipykernel)",
   "language": "python",
   "name": "python3"
  },
  "language_info": {
   "codemirror_mode": {
    "name": "ipython",
    "version": 3
   },
   "file_extension": ".py",
   "mimetype": "text/x-python",
   "name": "python",
   "nbconvert_exporter": "python",
   "pygments_lexer": "ipython3",
   "version": "3.9.12"
  }
 },
 "nbformat": 4,
 "nbformat_minor": 5
}
